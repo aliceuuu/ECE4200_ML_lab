{
 "cells": [
  {
   "cell_type": "markdown",
   "metadata": {},
   "source": [
    "# Assignment 9 Coding: Recommendation System Basics \n",
    "\n",
    "In this assignment, we will use [Surprise: A Python scikit for recommender systems](http://surpriselib.com/) to predict users' ratings on items based on existing ratings, which is an essential part in modern recommendation systems. Use the following code to install surprise or refer to the website:\n",
    "```python \n",
    "    pip install cython numpy\n",
    "    pip install scikit-surprise\n",
    "```\n",
    "\n",
    "or \n",
    "\n",
    "```python \n",
    "    pip3 install cython numpy\n",
    "    pip3 install scikit-surprise\n",
    "```\n",
    "\n",
    "or\n",
    "\n",
    "```python \n",
    "    conda install -c conda-forge scikit-surprise\n",
    "```"
   ]
  },
  {
   "cell_type": "markdown",
   "metadata": {},
   "source": [
    "## Movielens 100k Dataset\n",
    "The following code loads the [Movielens Dataset (see the link for more details)](https://grouplens.org/datasets/movielens/), which has 100k ratings of 1682 movies by 943 users. Here we print the ratings given by user 1, which consists of a few tuples in the format (movie_id, rating)."
   ]
  },
  {
   "cell_type": "code",
   "execution_count": 10,
   "metadata": {
    "scrolled": true
   },
   "outputs": [
    {
     "name": "stdout",
     "output_type": "stream",
     "text": [
      "Number of Users: 943\n",
      "Number of Items: 1682\n",
      "Ratings from User 1: [(0, 3.0), (528, 4.0), (377, 4.0), (522, 3.0), (431, 5.0), (834, 5.0), (380, 4.0), (329, 4.0), (550, 5.0), (83, 4.0), (632, 2.0), (86, 4.0), (289, 5.0), (363, 3.0), (438, 5.0), (389, 5.0), (649, 4.0), (947, 4.0), (423, 3.0), (291, 3.0), (10, 2.0), (1006, 4.0), (179, 3.0), (751, 3.0), (487, 3.0), (665, 3.0), (92, 4.0), (512, 5.0), (1045, 3.0), (672, 4.0), (656, 4.0), (221, 5.0), (432, 2.0), (365, 3.0), (321, 2.0), (466, 4.0), (302, 4.0), (491, 3.0), (521, 1.0)]\n"
     ]
    }
   ],
   "source": [
    "from surprise import SVD\n",
    "from surprise import Dataset\n",
    "from surprise import accuracy\n",
    "from surprise.model_selection import split\n",
    "import matplotlib.pyplot as plt\n",
    "import numpy as np\n",
    "data = Dataset.load_builtin('ml-100k')\n",
    "dataset = data.build_full_trainset()\n",
    "ratings = dataset.ur\n",
    "print(\"Number of Users:\", len(ratings.keys()))\n",
    "print(\"Number of Items:\", len(dataset.ir.keys()))\n",
    "print(\"Ratings from User 1:\", ratings[0])"
   ]
  },
  {
   "cell_type": "markdown",
   "metadata": {},
   "source": [
    "## 1. Prediction using Nearest Neighbour-based Collaborative Filtering\n",
    "\n",
    "Refer to the section *Train-test split and the fit() method* in [this page](https://surprise.readthedocs.io/en/stable/getting_started.html). Using test_size in $[0.1, 0.2, 0.3, 0.4, 0.5, 0.6, 0.7, 0.8, 0.9]$ and using KNNBasic as the algorithm, plot the rmse of the predictions you get and explain."
   ]
  },
  {
   "cell_type": "code",
   "execution_count": 12,
   "metadata": {},
   "outputs": [
    {
     "name": "stdout",
     "output_type": "stream",
     "text": [
      "Computing the msd similarity matrix...\n",
      "Done computing similarity matrix.\n",
      "RMSE: 0.9654\n",
      "Computing the msd similarity matrix...\n",
      "Done computing similarity matrix.\n",
      "RMSE: 0.9789\n",
      "Computing the msd similarity matrix...\n",
      "Done computing similarity matrix.\n",
      "RMSE: 0.9841\n",
      "Computing the msd similarity matrix...\n",
      "Done computing similarity matrix.\n",
      "RMSE: 0.9958\n",
      "Computing the msd similarity matrix...\n",
      "Done computing similarity matrix.\n",
      "RMSE: 1.0053\n",
      "Computing the msd similarity matrix...\n",
      "Done computing similarity matrix.\n",
      "RMSE: 1.0120\n",
      "Computing the msd similarity matrix...\n",
      "Done computing similarity matrix.\n",
      "RMSE: 1.0329\n",
      "Computing the msd similarity matrix...\n",
      "Done computing similarity matrix.\n",
      "RMSE: 1.0603\n",
      "Computing the msd similarity matrix...\n",
      "Done computing similarity matrix.\n",
      "RMSE: 1.1545\n"
     ]
    },
    {
     "data": {
      "text/plain": [
       "[<matplotlib.lines.Line2D at 0x1210b7810>]"
      ]
     },
     "execution_count": 12,
     "metadata": {},
     "output_type": "execute_result"
    },
    {
     "data": {
      "image/png": "[encoded data removed]",
      "text/plain": [
       "<Figure size 432x288 with 1 Axes>"
      ]
     },
     "metadata": {
      "needs_background": "light"
     },
     "output_type": "display_data"
    }
   ],
   "source": [
    "from surprise import KNNBasic\n",
    "test_size_list = [0.1, 0.2, 0.3, 0.4, 0.5, 0.6, 0.7, 0.8, 0.9]\n",
    "rmse_list = np.zeros(len(test_size_list))\n",
    "algo = KNNBasic()\n",
    "#========= Your code goes here ======\n",
    "\n",
    "from surprise.model_selection import train_test_split\n",
    "for i, test_size in enumerate(test_size_list):\n",
    "    # # test set is made of 25% of the ratings.\n",
    "    trainset, testset = train_test_split(data, test_size=test_size)\n",
    "    #algo = KNNBasic()\n",
    "    algo.fit(trainset)\n",
    "    predictions = algo.test(testset)\n",
    "    # RMSE (Root Mean Squared Error).\n",
    "    rmse_list[i] = accuracy.rmse(predictions)\n",
    "\n",
    "#==================================\n",
    "plt.plot(test_size_list, rmse_list)"
   ]
  },
  {
   "cell_type": "markdown",
   "metadata": {},
   "source": [
    "## Explain\n",
    "We can observe that the RMSE (Root Mean Squared Error) is increasing when we split more and more data to testset. The reason could be that the training set is less and less, which will make the model underfitting. This make the error increase, since the it can not predict well. "
   ]
  },
  {
   "cell_type": "markdown",
   "metadata": {},
   "source": [
    "## 2. Prediction using SVD-based Collaborative Filtering\n",
    "\n",
    "Refer to the section *Train-test split and the fit() method* in [this page](https://surprise.readthedocs.io/en/stable/getting_started.html). Using test_size in $[0.1, 0.2, 0.3, 0.4, 0.5, 0.6, 0.7, 0.8, 0.9]$ and using knn-basic as the algorithm, plot the rmse of the predictions you get and explain."
   ]
  },
  {
   "cell_type": "code",
   "execution_count": 13,
   "metadata": {},
   "outputs": [
    {
     "name": "stdout",
     "output_type": "stream",
     "text": [
      "RMSE: 0.9318\n",
      "RMSE: 0.9334\n",
      "RMSE: 0.9474\n",
      "RMSE: 0.9511\n",
      "RMSE: 0.9589\n",
      "RMSE: 0.9640\n",
      "RMSE: 0.9735\n",
      "RMSE: 0.9833\n",
      "RMSE: 1.0047\n"
     ]
    },
    {
     "data": {
      "text/plain": [
       "[<matplotlib.lines.Line2D at 0x120d75590>]"
      ]
     },
     "execution_count": 13,
     "metadata": {},
     "output_type": "execute_result"
    },
    {
     "data": {
      "image/png": "[encoded data removed]",
      "text/plain": [
       "<Figure size 432x288 with 1 Axes>"
      ]
     },
     "metadata": {
      "needs_background": "light"
     },
     "output_type": "display_data"
    }
   ],
   "source": [
    "from surprise import SVD\n",
    "test_size_list = [0.1, 0.2, 0.3, 0.4, 0.5, 0.6, 0.7, 0.8, 0.9]\n",
    "rmse_list = np.zeros(len(test_size_list))\n",
    "algo = SVD()\n",
    "#========= Your code goes here ======\n",
    "\n",
    "for i, test_size in enumerate(test_size_list):\n",
    "    # test set is made of \"test_size\"(ex. 0.25) of the ratings.\n",
    "    trainset, testset = train_test_split(data, test_size=test_size)\n",
    "    algo.fit(trainset)\n",
    "    predictions = algo.test(testset)\n",
    "    # RMSE (Root Mean Squared Error).\n",
    "    rmse_list[i] = accuracy.rmse(predictions)\n",
    "    \n",
    "\n",
    "#==================================\n",
    "plt.plot(test_size_list, rmse_list)"
   ]
  },
  {
   "cell_type": "markdown",
   "metadata": {},
   "source": [
    "## Explain\n",
    "The reason is the same. We can observe that the RMSE (Root Mean Squared Error) is increasing when we split more and more data to testset. The reason could be that the training set is less and less, which will make the model underfitting. This make the error increase, since the it can not predict well. "
   ]
  },
  {
   "cell_type": "code",
   "execution_count": null,
   "metadata": {},
   "outputs": [],
   "source": []
  }
 ],
 "metadata": {
  "kernelspec": {
   "display_name": "Python 3",
   "language": "python",
   "name": "python3"
  },
  "language_info": {
   "codemirror_mode": {
    "name": "ipython",
    "version": 3
   },
   "file_extension": ".py",
   "mimetype": "text/x-python",
   "name": "python",
   "nbconvert_exporter": "python",
   "pygments_lexer": "ipython3",
   "version": "3.7.4"
  }
 },
 "nbformat": 4,
 "nbformat_minor": 4
}
